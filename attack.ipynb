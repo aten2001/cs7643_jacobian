{
 "cells": [
  {
   "cell_type": "code",
   "execution_count": 729,
   "metadata": {},
   "outputs": [],
   "source": [
    "import sys; sys.argv=['']; del sys"
   ]
  },
  {
   "cell_type": "code",
   "execution_count": 730,
   "metadata": {},
   "outputs": [],
   "source": [
    "from __future__ import division\n",
    "import time\n",
    "import sys\n",
    "\n",
    "import torch\n",
    "import torch.nn as nn\n",
    "import torch.nn.functional as F\n",
    "import torch.optim as optim\n",
    "from torchvision import datasets, transforms\n",
    "import PIL\n",
    "from torch.autograd import Variable\n",
    "\n",
    "from jacobian import JacobianReg\n",
    "import numpy as np\n",
    "\n",
    "from models.lenet import *\n",
    "from models.resnet import *\n",
    "from models.vgg import *\n",
    "from models.mlp import *\n",
    "\n",
    "from logger import get_logger\n",
    "from option import Options\n",
    "\n",
    "import matplotlib.pyplot as plt\n",
    "\n",
    "args = Options().parse()"
   ]
  },
  {
   "cell_type": "code",
   "execution_count": 731,
   "metadata": {},
   "outputs": [],
   "source": [
    "from advertorch.attacks import GradientSignAttack\n",
    "from advertorch.attacks import PGDAttack"
   ]
  },
  {
   "cell_type": "markdown",
   "metadata": {},
   "source": [
    "#### choose model to load"
   ]
  },
  {
   "cell_type": "code",
   "execution_count": 732,
   "metadata": {},
   "outputs": [],
   "source": [
    "model = LeNet_standard()\n",
    "model.load_state_dict(torch.load('saved_models/'+'regularization-l2'+'.t7', map_location=lambda storage, loc: storage))\n",
    "model = model.cuda()\n",
    "\n",
    "# model = LeNet_standard()\n",
    "# model.load_state_dict(torch.load('saved_models/'+'jr-proj1'+'.t7', map_location=lambda storage, loc: storage))\n",
    "# model = model.cuda()"
   ]
  },
  {
   "cell_type": "markdown",
   "metadata": {},
   "source": [
    "#### choose attack method"
   ]
  },
  {
   "cell_type": "code",
   "execution_count": 733,
   "metadata": {},
   "outputs": [],
   "source": [
    "adversary = GradientSignAttack(\n",
    "    model, loss_fn=nn.CrossEntropyLoss(), \n",
    "    eps=0.2,\n",
    "    targeted=False)\n",
    "\n",
    "# adversary = PGDAttack(\n",
    "#     model, loss_fn=nn.CrossEntropyLoss(), \n",
    "#     nb_iter=15,\n",
    "#     targeted=False)"
   ]
  },
  {
   "cell_type": "markdown",
   "metadata": {},
   "source": [
    "#### choose defense method"
   ]
  },
  {
   "cell_type": "code",
   "execution_count": 734,
   "metadata": {},
   "outputs": [],
   "source": [
    "# args.defense = \"rand_size\"\n",
    "# args.defense = \"rand_size2\"\n",
    "\n",
    "args.defense = \"white_noise\"\n",
    "white_noise_sigma = 0.1\n",
    "\n",
    "# args.defense = \"rand_brightness\"\n",
    "# args.defense = \"rand_saturation\"\n",
    "# args.defense = \"rand_hue\"\n",
    "# args.defense = \"rand_contrast\"\n",
    "\n",
    "# args.defense = None"
   ]
  },
  {
   "cell_type": "markdown",
   "metadata": {},
   "source": [
    "#### Define transform functionals"
   ]
  },
  {
   "cell_type": "code",
   "execution_count": 735,
   "metadata": {},
   "outputs": [],
   "source": [
    "class MyBrightnessTransform():\n",
    "    def __init__(self, factor):\n",
    "        self.factor = factor\n",
    "    def __call__(self, x):\n",
    "        return transforms.functional.adjust_brightness(x, 1+self.factor)\n",
    "\n",
    "class MySaturationTransform():\n",
    "    def __init__(self, factor):\n",
    "        self.factor = factor\n",
    "    def __call__(self, x):\n",
    "        return transforms.functional.adjust_saturation(x, self.factor)\n",
    "\n",
    "class MyHueTransform():\n",
    "    def __init__(self, factor):\n",
    "        self.factor = factor\n",
    "    def __call__(self, x):\n",
    "        return transforms.functional.adjust_hue(x, self.factor)\n",
    "\n",
    "class MyContrastTransform():\n",
    "    def __init__(self, factor):\n",
    "        self.factor = factor\n",
    "    def __call__(self, x):\n",
    "        return transforms.functional.adjust_contrast(x, self.factor)\n"
   ]
  },
  {
   "cell_type": "markdown",
   "metadata": {},
   "source": [
    "### Preparing"
   ]
  },
  {
   "cell_type": "code",
   "execution_count": 736,
   "metadata": {},
   "outputs": [],
   "source": [
    "torch.manual_seed(args.seed)\n",
    "if torch.cuda.is_available():\n",
    "    device = torch.device(\"cuda:0\")\n",
    "    torch.cuda.manual_seed(args.seed)\n",
    "else:\n",
    "    device = torch.device(\"cpu\")"
   ]
  },
  {
   "cell_type": "code",
   "execution_count": 737,
   "metadata": {},
   "outputs": [],
   "source": [
    "def eval(device, model, loader, criterion, lambda_JR):\n",
    "    '''\n",
    "    Evaluate a model on a dataset for Jacobian regularization\n",
    "    Arguments:\n",
    "        device (torch.device): specifies cpu or gpu training\n",
    "        model (nn.Module): the neural network to evaluate\n",
    "        loader (DataLoader): a loader for the dataset to eval\n",
    "        criterion (nn.Module): the supervised loss function\n",
    "        lambda_JR (float): the Jacobian regularization weight\n",
    "    Returns:\n",
    "        correct (int): the number correct\n",
    "        total (int): the total number of examples\n",
    "        loss_super (float): the supervised loss\n",
    "        loss_JR (float): the Jacobian regularization loss\n",
    "        loss (float): the total combined loss\n",
    "    '''\n",
    "\n",
    "    correct = 0\n",
    "    total = 0 \n",
    "    loss_super_avg = 0 \n",
    "    loss_JR_avg = 0 \n",
    "    loss_avg = 0\n",
    "\n",
    "    # for eval, let's compute the jacobian exactly\n",
    "    # so n, the number of projections, is set to -1.\n",
    "    reg_full = JacobianReg(n=-1)\n",
    "    for data, targets in loader:\n",
    "        data = data.to(device)\n",
    "        \n",
    "        data.requires_grad = True # this is essential!\n",
    "        targets = targets.to(device)\n",
    "        output = model(data)\n",
    "        _, predicted = torch.max(output, 1)\n",
    "        correct += (predicted == targets).sum().item()\n",
    "        total += targets.size(0)\n",
    "        loss_super = criterion(output, targets) # supervised loss\n",
    "        loss_JR = reg_full(data, output) # Jacobian regularization\n",
    "        loss = loss_super + args.lambda_JR*loss_JR # full loss\n",
    "        loss_super_avg += loss_super.data*targets.size(0)\n",
    "        loss_JR_avg += loss_JR.data*targets.size(0)\n",
    "        loss_avg += loss.data*targets.size(0)\n",
    "\n",
    "    loss_super_avg /= total\n",
    "    loss_JR_avg /= total\n",
    "    loss_avg /= total\n",
    "    return correct, total, loss_super, loss_JR, loss"
   ]
  },
  {
   "cell_type": "code",
   "execution_count": 738,
   "metadata": {},
   "outputs": [],
   "source": [
    "def eval_attack(device, model, loader, criterion, lambda_JR, adversary):\n",
    "    '''\n",
    "    Evaluate a model on a dataset for Jacobian regularization\n",
    "    Arguments:\n",
    "        device (torch.device): specifies cpu or gpu training\n",
    "        model (nn.Module): the neural network to evaluate\n",
    "        loader (DataLoader): a loader for the dataset to eval\n",
    "        criterion (nn.Module): the supervised loss function\n",
    "        lambda_JR (float): the Jacobian regularization weight\n",
    "    Returns:\n",
    "        correct (int): the number correct\n",
    "        total (int): the total number of examples\n",
    "        loss_super (float): the supervised loss\n",
    "        loss_JR (float): the Jacobian regularization loss\n",
    "        loss (float): the total combined loss\n",
    "    '''\n",
    "\n",
    "    correct = 0\n",
    "    total = 0 \n",
    "    loss_super_avg = 0 \n",
    "    loss_JR_avg = 0 \n",
    "    loss_avg = 0\n",
    "    \n",
    "    \n",
    "\n",
    "    # for eval, let's compute the jacobian exactly\n",
    "    # so n, the number of projections, is set to -1.\n",
    "    reg_full = JacobianReg(n=-1)\n",
    "    for data, targets in loader:\n",
    "        \n",
    "        data = data.to(device)\n",
    "        targets = targets.to(device)\n",
    "        \n",
    "        ####\n",
    "        # perturbation\n",
    "        ####\n",
    "        data_bad = torch.clamp(adversary.perturb(data, targets), 0, 1)\n",
    "        \n",
    "        #print(data.shape)\n",
    "        \n",
    "        ####\n",
    "        # defense and preprocessing\n",
    "        ####\n",
    "        if args.defense != None:\n",
    "            if args.defense == \"rand_size\": # resize smaller + padding\n",
    "                new_W = np.random.randint(24, 28)\n",
    "                new_H = np.random.randint(24, 28)\n",
    "                padding_left = np.random.randint(0, 28 - new_W + 1)\n",
    "                padding_right = 28 - new_W - padding_left\n",
    "                padding_top = np.random.randint(0, 28 - new_H + 1) # left, top, right and bottom\n",
    "                padding_bottom = 28 - new_H - padding_top\n",
    "\n",
    "                transform_defense = transforms.Compose(\n",
    "                    [transforms.ToPILImage(),\n",
    "                    transforms.Resize((new_H, new_W)), \n",
    "                     transforms.Pad((padding_left, padding_top, padding_right, padding_bottom)), \n",
    "                     transforms.ToTensor(), \n",
    "                    ]\n",
    "                )\n",
    "                \n",
    "                for i in range(data_bad.shape[0]):\n",
    "                    data_bad[i] = transform_defense(data_bad[i].cpu())\n",
    "                    \n",
    "            elif args.defense == \"rand_size2\": # resize larger + resize smaller (repeat 10 times)\n",
    "                num_resize = 10\n",
    "                new_W = np.random.randint(100, 120, size=num_resize)\n",
    "                new_H = np.random.randint(100, 120, size=num_resize)\n",
    "                \n",
    "                transform_list = [transforms.ToPILImage()]\n",
    "                for i in range(num_resize):\n",
    "                    transform_list.append(transforms.Resize((new_H[i], new_W[i]), interpolation=PIL.Image.NEAREST))\n",
    "                    transform_list.append(transforms.Resize((28, 28), interpolation=PIL.Image.BILINEAR))\n",
    "                transform_list.append(transforms.ToTensor())\n",
    "\n",
    "                transform_defense = transforms.Compose(\n",
    "                    transform_list\n",
    "                ) \n",
    "                \n",
    "                for i in range(data_bad.shape[0]):\n",
    "                    data_bad[i] = transform_defense(data_bad[i].cpu())\n",
    "                    \n",
    "            elif args.defense == \"white_noise\": # white noise\n",
    "                for i in range(data_bad.shape[0]):\n",
    "                    data_bad[i] = data_bad[i] + Variable(data_bad[i].data.new(data_bad[i].size()).normal_(0, white_noise_sigma))\n",
    "                    \n",
    "            elif args.defense == \"rand_brightness\": # random brightness\n",
    "                brightness_factor = np.random.random() * (64/255) - 32/255 # adjustment in range [-32/255, 32/255]\n",
    "                transform_defense = transforms.Compose(\n",
    "                    [transforms.ToPILImage(),\n",
    "                     MyBrightnessTransform(brightness_factor),  \n",
    "                     transforms.ToTensor(), \n",
    "                    ]\n",
    "                )\n",
    "                for i in range(data_bad.shape[0]):\n",
    "                    data_bad[i] = transform_defense(data_bad[i].cpu())\n",
    "                    \n",
    "            elif args.defense == \"rand_saturation\": # random saturation\n",
    "                factor = np.random.random() + 0.5 # in range [0.5, 1.5]\n",
    "                transform_defense = transforms.Compose(\n",
    "                    [transforms.ToPILImage(),\n",
    "                     MySaturationTransform(factor),  \n",
    "                     transforms.ToTensor(), \n",
    "                    ]\n",
    "                )\n",
    "                for i in range(data_bad.shape[0]):\n",
    "                    data_bad[i] = transform_defense(data_bad[i].cpu())\n",
    "                    \n",
    "            elif args.defense == \"rand_hue\": # random brightness\n",
    "                factor = np.random.random() * (0.4) - 0.2 # in range [-0.2, 0.2]\n",
    "                transform_defense = transforms.Compose(\n",
    "                    [transforms.ToPILImage(),\n",
    "                     MyHueTransform(factor),  \n",
    "                     transforms.ToTensor(), \n",
    "                    ]\n",
    "                )\n",
    "                for i in range(data_bad.shape[0]):\n",
    "                    data_bad[i] = transform_defense(data_bad[i].cpu())\n",
    "                    \n",
    "            elif args.defense == \"rand_contrast\": # random brightness\n",
    "                factor = np.random.random() + 0.5 # in range [0.5, 1.5]\n",
    "                transform_defense = transforms.Compose(\n",
    "                    [transforms.ToPILImage(),\n",
    "                     MyContrastTransform(factor),  \n",
    "                     transforms.ToTensor(), \n",
    "                    ]\n",
    "                )\n",
    "                for i in range(data_bad.shape[0]):\n",
    "                    data_bad[i] = transform_defense(data_bad[i].cpu())\n",
    "                    \n",
    "            else:\n",
    "                print(\"Invalid defense name.\")\n",
    "                raise\n",
    "        \n",
    "        \n",
    "        \n",
    "        \n",
    "        data = (data - mnist_mean[0])/mnist_std[0]\n",
    "        data_bad = (data_bad - mnist_mean[0])/mnist_std[0]\n",
    "        \n",
    "\n",
    "        output = model(data_bad)\n",
    "        _, predicted = torch.max(output, 1)\n",
    "        correct += (predicted == targets).sum().item()\n",
    "        total += targets.size(0)\n",
    "\n",
    "    return correct, total, data, data_bad"
   ]
  },
  {
   "cell_type": "code",
   "execution_count": 739,
   "metadata": {},
   "outputs": [],
   "source": [
    "mnist_mean = (0.1307,)\n",
    "mnist_std = (0.3081,)\n",
    "\n",
    "    \n",
    "transform = transforms.Compose(\n",
    "    [\n",
    "    transforms.ToTensor(), \n",
    "     #transforms.Normalize(mnist_mean, mnist_std)\n",
    "    ]\n",
    ")\n",
    "trainset = datasets.MNIST(root='./data', train=True, \n",
    "    download=True, transform=transform\n",
    ")\n",
    "trainloader = torch.utils.data.DataLoader(\n",
    "    trainset, batch_size=args.batch_size, shuffle=True\n",
    ")\n",
    "testset = datasets.MNIST(root='./data', train=False, \n",
    "    download=True, transform=transform\n",
    ")\n",
    "testloader = torch.utils.data.DataLoader(\n",
    "    testset, batch_size=args.batch_size, shuffle=True\n",
    ")\n"
   ]
  },
  {
   "cell_type": "markdown",
   "metadata": {},
   "source": [
    "### evaluation"
   ]
  },
  {
   "cell_type": "code",
   "execution_count": 740,
   "metadata": {},
   "outputs": [],
   "source": [
    "criterion = nn.CrossEntropyLoss()"
   ]
  },
  {
   "cell_type": "code",
   "execution_count": 741,
   "metadata": {},
   "outputs": [
    {
     "name": "stdout",
     "output_type": "stream",
     "text": [
      "Before attack:\n",
      "accuracy: 9925/10000=0.993\n",
      "supervised loss: 0.089\n",
      "Jacobian loss: 5.459\n",
      "total loss: 0.635\n",
      "=========================================\n",
      "accuracy after attack: 4096/10000=0.410\n"
     ]
    }
   ],
   "source": [
    "correct_f, total, loss_super_f, loss_JR_f, loss_f = eval(\n",
    "        device, model, testloader, criterion, args.lambda_JR\n",
    "    )\n",
    "\n",
    "print('Before attack:')\n",
    "print('accuracy: %d/%d=%.3f' % (correct_f, total, correct_f/total))\n",
    "print('supervised loss: %.3f' % loss_super_f)\n",
    "print('Jacobian loss: %.3f' % loss_JR_f)\n",
    "print('total loss: %.3f' % loss_f)\n",
    "\n",
    "correct_f, total, ex, ex_bad = eval_attack(\n",
    "        device, model, testloader, criterion, args.lambda_JR, adversary\n",
    "    )\n",
    "\n",
    "print(\"=========================================\")\n",
    "print('accuracy after attack: %d/%d=%.3f' % (correct_f, total, correct_f/total))"
   ]
  },
  {
   "cell_type": "code",
   "execution_count": 742,
   "metadata": {},
   "outputs": [
    {
     "data": {
      "image/png": "[encoded data removed]",
      "text/plain": [
       "<Figure size 576x720 with 20 Axes>"
      ]
     },
     "metadata": {},
     "output_type": "display_data"
    }
   ],
   "source": [
    "cnt = 0\n",
    "plt.figure(figsize=(8,10))\n",
    "\n",
    "for i in range(10):\n",
    "    cnt += 1\n",
    "    plt.subplot(4,5,cnt)\n",
    "    plt.xticks([], [])\n",
    "    plt.yticks([], [])\n",
    "\n",
    "    plt.imshow(ex[i].cpu().detach().numpy().squeeze(), cmap=\"gray\")\n",
    "    \n",
    "    cnt += 1\n",
    "    \n",
    "    plt.subplot(4,5,cnt)\n",
    "    plt.xticks([], [])\n",
    "    plt.yticks([], [])\n",
    "    \n",
    "    plt.imshow(ex_bad[i].cpu().detach().numpy().squeeze(), cmap=\"gray\")\n",
    "plt.tight_layout()\n",
    "plt.show()"
   ]
  },
  {
   "cell_type": "code",
   "execution_count": null,
   "metadata": {},
   "outputs": [],
   "source": []
  },
  {
   "cell_type": "code",
   "execution_count": null,
   "metadata": {},
   "outputs": [],
   "source": []
  },
  {
   "cell_type": "code",
   "execution_count": null,
   "metadata": {},
   "outputs": [],
   "source": []
  },
  {
   "cell_type": "code",
   "execution_count": null,
   "metadata": {},
   "outputs": [],
   "source": []
  }
 ],
 "metadata": {
  "kernelspec": {
   "display_name": "Python 3",
   "language": "python",
   "name": "python3"
  },
  "language_info": {
   "codemirror_mode": {
    "name": "ipython",
    "version": 3
   },
   "file_extension": ".py",
   "mimetype": "text/x-python",
   "name": "python",
   "nbconvert_exporter": "python",
   "pygments_lexer": "ipython3",
   "version": "3.6.9"
  }
 },
 "nbformat": 4,
 "nbformat_minor": 2
}
