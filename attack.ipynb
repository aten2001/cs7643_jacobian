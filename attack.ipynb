{
 "cells": [
  {
   "cell_type": "code",
   "execution_count": 1,
   "metadata": {},
   "outputs": [],
   "source": [
    "import sys; sys.argv=['']; del sys"
   ]
  },
  {
   "cell_type": "code",
   "execution_count": 2,
   "metadata": {},
   "outputs": [],
   "source": [
    "from __future__ import division\n",
    "import time\n",
    "import sys\n",
    "\n",
    "import torch\n",
    "import torch.nn as nn\n",
    "import torch.nn.functional as F\n",
    "import torch.optim as optim\n",
    "from torchvision import datasets, transforms\n",
    "\n",
    "from jacobian import JacobianReg\n",
    "import numpy as np\n",
    "\n",
    "from models.lenet import *\n",
    "from models.resnet import *\n",
    "from models.vgg import *\n",
    "from models.mlp import *\n",
    "\n",
    "from logger import get_logger\n",
    "from option import Options\n",
    "\n",
    "import matplotlib.pyplot as plt\n",
    "\n",
    "args = Options().parse()"
   ]
  },
  {
   "cell_type": "code",
   "execution_count": 3,
   "metadata": {},
   "outputs": [],
   "source": [
    "from advertorch.attacks import GradientSignAttack\n",
    "from advertorch.attacks import PGDAttack"
   ]
  },
  {
   "cell_type": "markdown",
   "metadata": {},
   "source": [
    "#### choose model to load"
   ]
  },
  {
   "cell_type": "code",
   "execution_count": 4,
   "metadata": {},
   "outputs": [],
   "source": [
    "model = LeNet_standard()\n",
    "model.load_state_dict(torch.load('saved_models/'+'regularization-l2'+'.t7', map_location=lambda storage, loc: storage))\n",
    "model = model.cuda()\n",
    "\n",
    "# model = LeNet_standard()\n",
    "# model.load_state_dict(torch.load('saved_models/'+'jr-proj1'+'.t7', map_location=lambda storage, loc: storage))\n",
    "# model = model.cuda()"
   ]
  },
  {
   "cell_type": "markdown",
   "metadata": {},
   "source": [
    "#### choose attack method"
   ]
  },
  {
   "cell_type": "code",
   "execution_count": 5,
   "metadata": {},
   "outputs": [],
   "source": [
    "# adversary = GradientSignAttack(\n",
    "#     model, loss_fn=nn.CrossEntropyLoss(), \n",
    "#     eps=0.2,\n",
    "#     targeted=False)\n",
    "\n",
    "adversary = PGDAttack(\n",
    "    model, loss_fn=nn.CrossEntropyLoss(), \n",
    "    nb_iter=15,\n",
    "    targeted=False)"
   ]
  },
  {
   "cell_type": "markdown",
   "metadata": {},
   "source": [
    "#### choose defense method"
   ]
  },
  {
   "cell_type": "code",
   "execution_count": 6,
   "metadata": {},
   "outputs": [],
   "source": [
    "# args.defense = \"rand_size\"\n",
    "args.defense = None"
   ]
  },
  {
   "cell_type": "markdown",
   "metadata": {},
   "source": [
    "### Preparing"
   ]
  },
  {
   "cell_type": "code",
   "execution_count": 7,
   "metadata": {},
   "outputs": [],
   "source": [
    "torch.manual_seed(args.seed)\n",
    "if torch.cuda.is_available():\n",
    "    device = torch.device(\"cuda:0\")\n",
    "    torch.cuda.manual_seed(args.seed)\n",
    "else:\n",
    "    device = torch.device(\"cpu\")"
   ]
  },
  {
   "cell_type": "code",
   "execution_count": 8,
   "metadata": {},
   "outputs": [],
   "source": [
    "def eval(device, model, loader, criterion, lambda_JR):\n",
    "    '''\n",
    "    Evaluate a model on a dataset for Jacobian regularization\n",
    "    Arguments:\n",
    "        device (torch.device): specifies cpu or gpu training\n",
    "        model (nn.Module): the neural network to evaluate\n",
    "        loader (DataLoader): a loader for the dataset to eval\n",
    "        criterion (nn.Module): the supervised loss function\n",
    "        lambda_JR (float): the Jacobian regularization weight\n",
    "    Returns:\n",
    "        correct (int): the number correct\n",
    "        total (int): the total number of examples\n",
    "        loss_super (float): the supervised loss\n",
    "        loss_JR (float): the Jacobian regularization loss\n",
    "        loss (float): the total combined loss\n",
    "    '''\n",
    "\n",
    "    correct = 0\n",
    "    total = 0 \n",
    "    loss_super_avg = 0 \n",
    "    loss_JR_avg = 0 \n",
    "    loss_avg = 0\n",
    "\n",
    "    # for eval, let's compute the jacobian exactly\n",
    "    # so n, the number of projections, is set to -1.\n",
    "    reg_full = JacobianReg(n=-1)\n",
    "    for data, targets in loader:\n",
    "        data = data.to(device)\n",
    "        \n",
    "        data.requires_grad = True # this is essential!\n",
    "        targets = targets.to(device)\n",
    "        output = model(data)\n",
    "        _, predicted = torch.max(output, 1)\n",
    "        correct += (predicted == targets).sum().item()\n",
    "        total += targets.size(0)\n",
    "        loss_super = criterion(output, targets) # supervised loss\n",
    "        loss_JR = reg_full(data, output) # Jacobian regularization\n",
    "        loss = loss_super + args.lambda_JR*loss_JR # full loss\n",
    "        loss_super_avg += loss_super.data*targets.size(0)\n",
    "        loss_JR_avg += loss_JR.data*targets.size(0)\n",
    "        loss_avg += loss.data*targets.size(0)\n",
    "\n",
    "    loss_super_avg /= total\n",
    "    loss_JR_avg /= total\n",
    "    loss_avg /= total\n",
    "    return correct, total, loss_super, loss_JR, loss"
   ]
  },
  {
   "cell_type": "code",
   "execution_count": 9,
   "metadata": {},
   "outputs": [],
   "source": [
    "def eval_attack(device, model, loader, criterion, lambda_JR, adversary):\n",
    "    '''\n",
    "    Evaluate a model on a dataset for Jacobian regularization\n",
    "    Arguments:\n",
    "        device (torch.device): specifies cpu or gpu training\n",
    "        model (nn.Module): the neural network to evaluate\n",
    "        loader (DataLoader): a loader for the dataset to eval\n",
    "        criterion (nn.Module): the supervised loss function\n",
    "        lambda_JR (float): the Jacobian regularization weight\n",
    "    Returns:\n",
    "        correct (int): the number correct\n",
    "        total (int): the total number of examples\n",
    "        loss_super (float): the supervised loss\n",
    "        loss_JR (float): the Jacobian regularization loss\n",
    "        loss (float): the total combined loss\n",
    "    '''\n",
    "\n",
    "    correct = 0\n",
    "    total = 0 \n",
    "    loss_super_avg = 0 \n",
    "    loss_JR_avg = 0 \n",
    "    loss_avg = 0\n",
    "    \n",
    "    \n",
    "\n",
    "    # for eval, let's compute the jacobian exactly\n",
    "    # so n, the number of projections, is set to -1.\n",
    "    reg_full = JacobianReg(n=-1)\n",
    "    for data, targets in loader:\n",
    "        \n",
    "        data = data.to(device)\n",
    "        targets = targets.to(device)\n",
    "        \n",
    "        ####\n",
    "        # perturbation\n",
    "        ####\n",
    "        data_bad = torch.clamp(adversary.perturb(data, targets), 0, 1)\n",
    "        \n",
    "        #print(data.shape)\n",
    "        \n",
    "        ####\n",
    "        # defense and preprocessing\n",
    "        ####\n",
    "        if args.defense != None:\n",
    "            if args.defense == \"rand_size\":\n",
    "                \n",
    "                new_W = np.random.randint(24, 28)\n",
    "                new_H = np.random.randint(24, 28)\n",
    "                padding_left = np.random.randint(0, 28 - new_W + 1)\n",
    "                padding_right = 28 - new_W - padding_left\n",
    "                padding_top = np.random.randint(0, 28 - new_H + 1) # left, top, right and bottom\n",
    "                padding_bottom = 28 - new_H - padding_top\n",
    "                #logger.info('Width: %d, height: %d, padding_left: %d, padding_right: %d, padding_top: %d, padding_bottom: %d' %\n",
    "                #            (new_W, new_H, padding_left, padding_right, padding_top, padding_bottom)\n",
    "                #    )\n",
    "                transform_defense = transforms.Compose(\n",
    "                    [transforms.ToPILImage(),\n",
    "                    transforms.Resize((new_H, new_W)), \n",
    "                     transforms.Pad((padding_left, padding_top, padding_right, padding_bottom)), \n",
    "                     transforms.ToTensor(), \n",
    "                     #transforms.Normalize(mnist_mean, mnist_std)\n",
    "                    ]\n",
    "                )\n",
    "                \n",
    "                for i in range(data_bad.shape[0]):\n",
    "                    data_bad[i] = transform_defense(data_bad[i].cpu())\n",
    "                    \n",
    "                \n",
    "            else:\n",
    "                print(\"Invalid defense name.\")\n",
    "                raise\n",
    "        \n",
    "        \n",
    "        \n",
    "        \n",
    "        data = (data - mnist_mean[0])/mnist_std[0]\n",
    "        data_bad = (data_bad - mnist_mean[0])/mnist_std[0]\n",
    "        \n",
    "\n",
    "        output = model(data_bad)\n",
    "        _, predicted = torch.max(output, 1)\n",
    "        correct += (predicted == targets).sum().item()\n",
    "        total += targets.size(0)\n",
    "\n",
    "    return correct, total, data, data_bad"
   ]
  },
  {
   "cell_type": "code",
   "execution_count": 10,
   "metadata": {},
   "outputs": [],
   "source": [
    "mnist_mean = (0.1307,)\n",
    "mnist_std = (0.3081,)\n",
    "\n",
    "    \n",
    "transform = transforms.Compose(\n",
    "    [\n",
    "    transforms.ToTensor(), \n",
    "     #transforms.Normalize(mnist_mean, mnist_std)\n",
    "    ]\n",
    ")\n",
    "trainset = datasets.MNIST(root='./data', train=True, \n",
    "    download=True, transform=transform\n",
    ")\n",
    "trainloader = torch.utils.data.DataLoader(\n",
    "    trainset, batch_size=args.batch_size, shuffle=True\n",
    ")\n",
    "testset = datasets.MNIST(root='./data', train=False, \n",
    "    download=True, transform=transform\n",
    ")\n",
    "testloader = torch.utils.data.DataLoader(\n",
    "    testset, batch_size=args.batch_size, shuffle=True\n",
    ")\n"
   ]
  },
  {
   "cell_type": "markdown",
   "metadata": {},
   "source": [
    "### evaluation"
   ]
  },
  {
   "cell_type": "code",
   "execution_count": 11,
   "metadata": {},
   "outputs": [],
   "source": [
    "criterion = nn.CrossEntropyLoss()"
   ]
  },
  {
   "cell_type": "code",
   "execution_count": 12,
   "metadata": {},
   "outputs": [
    {
     "name": "stdout",
     "output_type": "stream",
     "text": [
      "Before attack:\n",
      "accuracy: 9865/10000=0.987\n",
      "supervised loss: 0.328\n",
      "Jacobian loss: 1.876\n",
      "total loss: 0.516\n",
      "=========================================\n",
      "accuracy after attack: 6398/10000=0.640\n"
     ]
    }
   ],
   "source": [
    "correct_f, total, loss_super_f, loss_JR_f, loss_f = eval(\n",
    "        device, model, testloader, criterion, args.lambda_JR\n",
    "    )\n",
    "\n",
    "print('Before attack:')\n",
    "print('accuracy: %d/%d=%.3f' % (correct_f, total, correct_f/total))\n",
    "print('supervised loss: %.3f' % loss_super_f)\n",
    "print('Jacobian loss: %.3f' % loss_JR_f)\n",
    "print('total loss: %.3f' % loss_f)\n",
    "\n",
    "correct_f, total, ex, ex_bad = eval_attack(\n",
    "        device, model, testloader, criterion, args.lambda_JR, adversary\n",
    "    )\n",
    "\n",
    "print(\"=========================================\")\n",
    "print('accuracy after attack: %d/%d=%.3f' % (correct_f, total, correct_f/total))"
   ]
  },
  {
   "cell_type": "code",
   "execution_count": 13,
   "metadata": {},
   "outputs": [
    {
     "data": {
      "image/png": "[encoded data removed]",
      "text/plain": [
       "<Figure size 576x720 with 20 Axes>"
      ]
     },
     "metadata": {},
     "output_type": "display_data"
    }
   ],
   "source": [
    "cnt = 0\n",
    "plt.figure(figsize=(8,10))\n",
    "\n",
    "for i in range(10):\n",
    "    cnt += 1\n",
    "    plt.subplot(4,5,cnt)\n",
    "    plt.xticks([], [])\n",
    "    plt.yticks([], [])\n",
    "\n",
    "    plt.imshow(ex[i].cpu().detach().numpy().squeeze(), cmap=\"gray\")\n",
    "    \n",
    "    cnt += 1\n",
    "    \n",
    "    plt.subplot(4,5,cnt)\n",
    "    plt.xticks([], [])\n",
    "    plt.yticks([], [])\n",
    "    \n",
    "    plt.imshow(ex_bad[i].cpu().detach().numpy().squeeze(), cmap=\"gray\")\n",
    "plt.tight_layout()\n",
    "plt.show()"
   ]
  },
  {
   "cell_type": "code",
   "execution_count": null,
   "metadata": {},
   "outputs": [],
   "source": []
  },
  {
   "cell_type": "code",
   "execution_count": null,
   "metadata": {},
   "outputs": [],
   "source": []
  },
  {
   "cell_type": "code",
   "execution_count": null,
   "metadata": {},
   "outputs": [],
   "source": []
  },
  {
   "cell_type": "code",
   "execution_count": null,
   "metadata": {},
   "outputs": [],
   "source": []
  }
 ],
 "metadata": {
  "kernelspec": {
   "display_name": "Python [conda env:cs7643_proj] *",
   "language": "python",
   "name": "conda-env-cs7643_proj-py"
  },
  "language_info": {
   "codemirror_mode": {
    "name": "ipython",
    "version": 3
   },
   "file_extension": ".py",
   "mimetype": "text/x-python",
   "name": "python",
   "nbconvert_exporter": "python",
   "pygments_lexer": "ipython3",
   "version": "3.6.7"
  }
 },
 "nbformat": 4,
 "nbformat_minor": 2
}
